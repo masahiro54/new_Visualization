{
  "nbformat": 4,
  "nbformat_minor": 0,
  "metadata": {
    "colab": {
      "name": "スクレイピング_TEST_0620.ipynb",
      "provenance": [],
      "collapsed_sections": [],
      "authorship_tag": "ABX9TyOprCnVndQ4XywbDjTBzWfS",
      "include_colab_link": true
    },
    "kernelspec": {
      "name": "python3",
      "display_name": "Python 3"
    }
  },
  "cells": [
    {
      "cell_type": "markdown",
      "metadata": {
        "id": "view-in-github",
        "colab_type": "text"
      },
      "source": [
        "<a href=\"https://colab.research.google.com/github/masahiro54/new_Visualization/blob/master/%E3%82%B9%E3%82%AF%E3%83%AC%E3%82%A4%E3%83%94%E3%83%B3%E3%82%B0_TEST_0620.ipynb\" target=\"_parent\"><img src=\"https://colab.research.google.com/assets/colab-badge.svg\" alt=\"Open In Colab\"/></a>"
      ]
    },
    {
      "cell_type": "code",
      "metadata": {
        "id": "ZsXu7TF1Ihi0",
        "colab_type": "code",
        "colab": {
          "base_uri": "https://localhost:8080/",
          "height": 51
        },
        "outputId": "03ba4052-698a-4734-c7ed-09c39a6dbf8e"
      },
      "source": [
        "pip install re\n"
      ],
      "execution_count": 30,
      "outputs": [
        {
          "output_type": "stream",
          "text": [
            "\u001b[31mERROR: Could not find a version that satisfies the requirement re (from versions: none)\u001b[0m\n",
            "\u001b[31mERROR: No matching distribution found for re\u001b[0m\n"
          ],
          "name": "stdout"
        }
      ]
    },
    {
      "cell_type": "code",
      "metadata": {
        "id": "BNCeSw-6JV_o",
        "colab_type": "code",
        "colab": {
          "base_uri": "https://localhost:8080/",
          "height": 71
        },
        "outputId": "51a8e098-aef2-43ff-f697-ef4d80ba15b5"
      },
      "source": [
        "import requests\n",
        "from bs4 import BeautifulSoup\n",
        "import csv\n",
        "import re\n",
        "\n",
        "# スクレイピング対象の URL にリクエストを送り HTML を取得する\n",
        "res = requests.get('https://tabelog.com/tokyo/A1329/A132901/13163640/dtlrvwlst/B95071157/?use_type=0&smp=1')\n",
        "\n",
        "# レスポンスの HTML から BeautifulSoup オブジェクトを作る\n",
        "soup = BeautifulSoup(res.text, 'html.parser')\n",
        "\n",
        "# title タグの文字列を取得する\n",
        "title = soup.find_all(\"div\", class_=\"rvw-item__rvw-comment\")\n",
        "text = soup.get_text()\n",
        "#title_2 = '・'.join(title)\n",
        "#print(type(title))\n",
        "csvlist = []\n",
        "for p in title:\n",
        "   # print(type(title))\n",
        "   text_2 = p.text.replace(\" \",\"\")\n",
        "   text_3 = text_2.replace(\"\\n\",\"\")\n",
        "   print(text_3)\n",
        "   csvlist.append(text_3)\n",
        "\n",
        "\n",
        "# ファイルオープン\n",
        "f = open('output.csv', 'w')\n",
        "writer = csv.writer(f,lineterminator='\\n')\n",
        "\n",
        "# データをリストに保持\n",
        "\n",
        "\n",
        "#csvlist.append(\"fuga\")\n",
        "\n",
        "# 出力\n",
        "writer.writerow(csvlist)\n",
        "\n",
        "# ファイルクローズ\n",
        "f.close()"
      ],
      "execution_count": 54,
      "outputs": [
        {
          "output_type": "stream",
          "text": [
            "立川駅から15分程、西国立駅からだと数分。身体に優しいアットホームな中華のお店カウンターもあり、お一人様にもやさしい。そして料理はこんな中華もあるんだ！ってくらい優しい＆奥深い味で美味。強すぎない、でも満足出来るスパイス使いに一つ一つ感動します。ランチでしか利用したことがなかったのですが今回はお店を貸し切っての宴会に呼んで貰って初の夜利用。5000円で飲み放題付き。飲み放題はビール、サワーの他紹興酒やワインもあって◎料理は普段あんまり食べれない物をリクエストしてくれたそうで....正式名称は分からないものの(ちゃんと教えてくれたのですが飲兵衛の記憶からは....)前菜～揚げチャーシュー、青菜炒め、そして魚、肉！！普段食べるエビチリ～とか酢豚～とかじゃない、初めて食べる中華がたくさん！どれも和風とは違う、でも油っぽくない、優しい味でほんとに美味しい。味わい奥深く、山椒等、随所にスパイスがしっかり効いていて◎付け合わせの人参の飾り切りが素晴らし過ぎてついつい集めてしまいました。追加で餡かけ炒飯なんかも注文してお腹いっぱい。心も満足◎◎やっぱり美味しい、そして味も雰囲気も優しい、また来たい！ゆるりさん、さすがです。\n",
            "レビュアーさん絶賛の中華料理屋さんにやっと行けました(^^)店内は薄暗くカウンターとテーブルで中華と言うよりカフェみたいな雰囲気で落ち着きました。ランチのBコース980円を注文。ご飯、メイン2つ、小皿、デザート、ドリンクがそれぞれ選べて薬膳滋養スープと本日のお野菜も付きます。◆選べるご飯類はうるおいチャーハン◆メインは七色豚とチーズのミルフィーユ酢豚と完熟トマトのエビチリ◆小皿はパリパリ五目春巻き◆デザートはバニラアイスのバルサミコアップルがけどれも美味しそうで悩みました。ご飯類は3種類、メインは10種類、小皿は5種類、デザートは10種類から選べるので毎日来ても飽きなさそう(^^)10分程揚げたり炒めたりする音を聞きながら待ちました。丁寧に自分のために作ってくれている感じ悪くないです。この音も食欲をそそります～出てきたセットは色々な物を少しずつ....と女性には嬉しい感じ。がっつり食べたい男性にはちょっと物足りないかな？くらいの量です。まずは薬膳滋養スープ。身体にすっと入っていく感じで漢方みたいな味がするかと思いきやそんなことはなく、優しい味でした。お代わりしたい～♪チャーハンは油っこくなくて塩コショウも最低限、麦の食感が良く一般的な中華のチャーハンと違う味でしたが飽きがこずお茶碗一杯ペロリでした。酢豚は私には味が濃いめでしたが、ごろっとしたさつま芋と千切りドライさつま芋が上に乗っていたのが印象的。こちらも油控えめでもたれなさそう。丁寧な盛り付けだと思いました。エビチリはトマトの酸味と後からのピリ辛を楽しめる一品でした。エビは小ぶりでしたがぷりっと美味しい～後ひく美味しさでした。バニラアイスのバルサミコアップルがけは初めての味。アイスに酢という発想がなかったのでどうなの？と思いましたが甘さがさっぱりとした後味になって有りです。自分でもやってみよう～と思いました。バルサミコは別に提供されたので苦手な方はアイスのみで食べられます。最後はドリンクのマンゴージュースで一息。何から何まで揃って980円というCPの良さ！総じて油が控えめでもったりしないので毎日でも食べたくなる中華でした。また１つ１つが丁寧に作られていてよくある街の中華の大雑把に早くがっつり！と言うのと全く違う中華でした。西国立は中々来ないので理由をつけて行こうと思います(^^)ごちそうさまでした！\n"
          ],
          "name": "stdout"
        }
      ]
    },
    {
      "cell_type": "code",
      "metadata": {
        "id": "TpNaY34ffJ_i",
        "colab_type": "code",
        "colab": {}
      },
      "source": [
        ""
      ],
      "execution_count": null,
      "outputs": []
    },
    {
      "cell_type": "code",
      "metadata": {
        "id": "rYdoI4Jacabq",
        "colab_type": "code",
        "colab": {
          "base_uri": "https://localhost:8080/",
          "height": 34
        },
        "outputId": "50aa1ae2-0c92-49f6-bb78-6b317bfb4ec1"
      },
      "source": [
        "\n",
        " \n",
        "import re\n",
        " \n",
        "# 対象の文字列\n",
        "text = \"abc123def456efg\"\n",
        " \n",
        "# 連続した小文字のアルファベットを置換\n",
        "result = re.sub(r'[a-z]+', \"0\", text)\n",
        " \n",
        "print(result) # 01230456340\n"
      ],
      "execution_count": 32,
      "outputs": [
        {
          "output_type": "stream",
          "text": [
            "012304560\n"
          ],
          "name": "stdout"
        }
      ]
    }
  ]
}